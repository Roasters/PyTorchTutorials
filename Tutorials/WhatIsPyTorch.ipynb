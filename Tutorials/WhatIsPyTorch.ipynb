{
 "cells": [
  {
   "cell_type": "code",
   "execution_count": 1,
   "metadata": {},
   "outputs": [],
   "source": [
    "from __future__ import print_function\n",
    "import torch"
   ]
  },
  {
   "cell_type": "markdown",
   "metadata": {},
   "source": [
    "### How to create TENSORS"
   ]
  },
  {
   "cell_type": "code",
   "execution_count": 2,
   "metadata": {},
   "outputs": [
    {
     "data": {
      "text/plain": [
       "tensor([[1.0194e-38, 8.4490e-39, 1.0469e-38],\n",
       "        [9.3674e-39, 9.9184e-39, 8.7245e-39],\n",
       "        [9.2755e-39, 8.9082e-39, 9.9184e-39],\n",
       "        [8.4490e-39, 9.6429e-39, 1.0653e-38],\n",
       "        [1.0469e-38, 4.2246e-39, 1.0378e-38]])"
      ]
     },
     "execution_count": 2,
     "metadata": {},
     "output_type": "execute_result"
    }
   ],
   "source": [
    "# Uninitialized matrix\n",
    "x = torch.empty(5, 3)\n",
    "x"
   ]
  },
  {
   "cell_type": "code",
   "execution_count": 3,
   "metadata": {},
   "outputs": [
    {
     "data": {
      "text/plain": [
       "tensor([[0.6711, 0.4342, 0.8042],\n",
       "        [0.4084, 0.5102, 0.5481],\n",
       "        [0.7000, 0.5522, 0.6118],\n",
       "        [0.6968, 0.0023, 0.2695],\n",
       "        [0.2409, 0.1177, 0.5703]])"
      ]
     },
     "execution_count": 3,
     "metadata": {},
     "output_type": "execute_result"
    }
   ],
   "source": [
    "# Randomly initialized matrix\n",
    "x = torch.rand(5, 3)\n",
    "x"
   ]
  },
  {
   "cell_type": "code",
   "execution_count": 5,
   "metadata": {},
   "outputs": [
    {
     "data": {
      "text/plain": [
       "tensor([[0, 0, 0],\n",
       "        [0, 0, 0],\n",
       "        [0, 0, 0],\n",
       "        [0, 0, 0],\n",
       "        [0, 0, 0]])"
      ]
     },
     "execution_count": 5,
     "metadata": {},
     "output_type": "execute_result"
    }
   ],
   "source": [
    "# Filled with zeros\n",
    "x = torch.zeros(5, 3, dtype=torch.long)\n",
    "x"
   ]
  },
  {
   "cell_type": "code",
   "execution_count": 6,
   "metadata": {},
   "outputs": [
    {
     "data": {
      "text/plain": [
       "tensor([1, 2, 3])"
      ]
     },
     "execution_count": 6,
     "metadata": {},
     "output_type": "execute_result"
    }
   ],
   "source": [
    "# Directly from data\n",
    "x = torch.tensor([1,2,3])\n",
    "x"
   ]
  },
  {
   "cell_type": "code",
   "execution_count": 7,
   "metadata": {},
   "outputs": [
    {
     "name": "stdout",
     "output_type": "stream",
     "text": [
      "tensor([[1., 1., 1.],\n",
      "        [1., 1., 1.],\n",
      "        [1., 1., 1.],\n",
      "        [1., 1., 1.],\n",
      "        [1., 1., 1.]], dtype=torch.float64)\n",
      "tensor([[-0.1556,  1.0510, -0.1043],\n",
      "        [-1.8056,  0.7623, -1.3833],\n",
      "        [-0.7889,  3.0313,  0.9229],\n",
      "        [ 1.2218,  0.4913,  0.1038],\n",
      "        [ 0.5949, -0.7122,  2.0500]])\n"
     ]
    }
   ],
   "source": [
    "# Creating tensors based on existing ones\n",
    "x = x.new_ones(5, 3, dtype=torch.double)  # new_*** is a method of tensor()\n",
    "print(x)\n",
    "\n",
    "x = torch.randn_like(x, dtype=torch.float)\n",
    "print(x)"
   ]
  },
  {
   "cell_type": "markdown",
   "metadata": {},
   "source": [
    "### Tensor Operations"
   ]
  },
  {
   "cell_type": "code",
   "execution_count": 10,
   "metadata": {},
   "outputs": [
    {
     "data": {
      "text/plain": [
       "tensor([[ 0.5260,  1.7898,  0.5999],\n",
       "        [ 0.3311,  1.3143, -0.1241],\n",
       "        [ 1.1161, -0.0743, -0.8371],\n",
       "        [-0.3529, -0.8255, -0.9472],\n",
       "        [ 0.0166, -0.5324,  1.1672]])"
      ]
     },
     "execution_count": 10,
     "metadata": {},
     "output_type": "execute_result"
    }
   ],
   "source": [
    "y = torch.randn_like(x)\n",
    "y"
   ]
  },
  {
   "cell_type": "code",
   "execution_count": 11,
   "metadata": {},
   "outputs": [
    {
     "name": "stdout",
     "output_type": "stream",
     "text": [
      "tensor([[ 0.3704,  2.8408,  0.4956],\n",
      "        [-1.4745,  2.0767, -1.5074],\n",
      "        [ 0.3272,  2.9570,  0.0858],\n",
      "        [ 0.8689, -0.3342, -0.8434],\n",
      "        [ 0.6115, -1.2447,  3.2172]])\n"
     ]
    }
   ],
   "source": [
    "result = torch.empty(5, 3)\n",
    "torch.add(x, y, out=result)\n",
    "print(result)"
   ]
  },
  {
   "cell_type": "code",
   "execution_count": 12,
   "metadata": {},
   "outputs": [
    {
     "data": {
      "text/plain": [
       "tensor([[ 0.3704,  2.8408,  0.4956],\n",
       "        [-1.4745,  2.0767, -1.5074],\n",
       "        [ 0.3272,  2.9570,  0.0858],\n",
       "        [ 0.8689, -0.3342, -0.8434],\n",
       "        [ 0.6115, -1.2447,  3.2172]])"
      ]
     },
     "execution_count": 12,
     "metadata": {},
     "output_type": "execute_result"
    }
   ],
   "source": [
    "# In-place Operation\n",
    "y.add_(x)\n",
    "y"
   ]
  },
  {
   "cell_type": "code",
   "execution_count": 15,
   "metadata": {},
   "outputs": [
    {
     "name": "stdout",
     "output_type": "stream",
     "text": [
      "tensor([[-0.1556,  1.0510, -0.1043],\n",
      "        [-1.8056,  0.7623, -1.3833],\n",
      "        [-0.7889,  3.0313,  0.9229],\n",
      "        [ 1.2218,  0.4913,  0.1038],\n",
      "        [ 0.5949, -0.7122,  2.0500]])\n",
      "tensor([ 1.0510,  0.7623,  3.0313,  0.4913, -0.7122])\n",
      "tensor([[ 1.0510],\n",
      "        [ 0.7623],\n",
      "        [ 3.0313],\n",
      "        [ 0.4913],\n",
      "        [-0.7122]])\n"
     ]
    }
   ],
   "source": [
    "print(x)\n",
    "print(x[:, 1])\n",
    "print(x[:, [1]])"
   ]
  },
  {
   "cell_type": "code",
   "execution_count": 16,
   "metadata": {},
   "outputs": [
    {
     "name": "stdout",
     "output_type": "stream",
     "text": [
      "torch.Size([4, 4]) torch.Size([16]) torch.Size([2, 8])\n"
     ]
    }
   ],
   "source": [
    "# Reshaping: view()\n",
    "x = torch.randn(4, 4)\n",
    "y = x.view(16)\n",
    "z = x.view(-1, 8)\n",
    "print(x.size(), y.size(), z.size())"
   ]
  },
  {
   "cell_type": "code",
   "execution_count": 18,
   "metadata": {},
   "outputs": [
    {
     "name": "stdout",
     "output_type": "stream",
     "text": [
      "<class 'torch.Tensor'>\n",
      "<class 'float'>\n"
     ]
    }
   ],
   "source": [
    "# Extract a 0-d scala\n",
    "x = torch.randn(1)\n",
    "print(type(x))\n",
    "print(type(x.item()))"
   ]
  },
  {
   "cell_type": "code",
   "execution_count": null,
   "metadata": {},
   "outputs": [],
   "source": []
  }
 ],
 "metadata": {
  "kernelspec": {
   "display_name": "Python 3",
   "language": "python",
   "name": "python3"
  },
  "language_info": {
   "codemirror_mode": {
    "name": "ipython",
    "version": 3
   },
   "file_extension": ".py",
   "mimetype": "text/x-python",
   "name": "python",
   "nbconvert_exporter": "python",
   "pygments_lexer": "ipython3",
   "version": "3.7.1"
  }
 },
 "nbformat": 4,
 "nbformat_minor": 2
}
